{
 "cells": [
  {
   "cell_type": "code",
   "execution_count": 1,
   "id": "f076fc4c",
   "metadata": {},
   "outputs": [],
   "source": [
    "from sklearn import tree\n",
    "import pandas as pd\n",
    "import os"
   ]
  },
  {
   "cell_type": "code",
   "execution_count": 2,
   "id": "4e6ea757",
   "metadata": {},
   "outputs": [],
   "source": [
    "%matplotlib inline\n",
    "import matplotlib.pyplot as plt\n",
    "import numpy as np\n",
    "import pandas as pd"
   ]
  },
  {
   "cell_type": "code",
   "execution_count": 3,
   "id": "01b2d88f",
   "metadata": {},
   "outputs": [
    {
     "data": {
      "text/html": [
       "<div>\n",
       "<style scoped>\n",
       "    .dataframe tbody tr th:only-of-type {\n",
       "        vertical-align: middle;\n",
       "    }\n",
       "\n",
       "    .dataframe tbody tr th {\n",
       "        vertical-align: top;\n",
       "    }\n",
       "\n",
       "    .dataframe thead th {\n",
       "        text-align: right;\n",
       "    }\n",
       "</style>\n",
       "<table border=\"1\" class=\"dataframe\">\n",
       "  <thead>\n",
       "    <tr style=\"text-align: right;\">\n",
       "      <th></th>\n",
       "      <th>Year</th>\n",
       "      <th>Country</th>\n",
       "      <th>Population</th>\n",
       "      <th>Life Expectancy Years</th>\n",
       "      <th>GDP (income per capita)</th>\n",
       "      <th>Fertility Rate</th>\n",
       "      <th>Child Motality 0-5 YO</th>\n",
       "      <th>Education (female 15-44)</th>\n",
       "      <th>Contraceptive Use percent</th>\n",
       "    </tr>\n",
       "  </thead>\n",
       "  <tbody>\n",
       "    <tr>\n",
       "      <th>0</th>\n",
       "      <td>1799</td>\n",
       "      <td>Bangladesh</td>\n",
       "      <td>19200000</td>\n",
       "      <td>25.5</td>\n",
       "      <td>876</td>\n",
       "      <td>6.7</td>\n",
       "      <td>508.0</td>\n",
       "      <td>NaN</td>\n",
       "      <td>NaN</td>\n",
       "    </tr>\n",
       "    <tr>\n",
       "      <th>1</th>\n",
       "      <td>1800</td>\n",
       "      <td>Bangladesh</td>\n",
       "      <td>19200000</td>\n",
       "      <td>25.5</td>\n",
       "      <td>876</td>\n",
       "      <td>6.7</td>\n",
       "      <td>508.0</td>\n",
       "      <td>NaN</td>\n",
       "      <td>NaN</td>\n",
       "    </tr>\n",
       "    <tr>\n",
       "      <th>2</th>\n",
       "      <td>1801</td>\n",
       "      <td>Bangladesh</td>\n",
       "      <td>19300000</td>\n",
       "      <td>25.5</td>\n",
       "      <td>876</td>\n",
       "      <td>6.7</td>\n",
       "      <td>508.0</td>\n",
       "      <td>NaN</td>\n",
       "      <td>NaN</td>\n",
       "    </tr>\n",
       "    <tr>\n",
       "      <th>3</th>\n",
       "      <td>1802</td>\n",
       "      <td>Bangladesh</td>\n",
       "      <td>19300000</td>\n",
       "      <td>25.5</td>\n",
       "      <td>876</td>\n",
       "      <td>6.7</td>\n",
       "      <td>508.0</td>\n",
       "      <td>NaN</td>\n",
       "      <td>NaN</td>\n",
       "    </tr>\n",
       "    <tr>\n",
       "      <th>4</th>\n",
       "      <td>1803</td>\n",
       "      <td>Bangladesh</td>\n",
       "      <td>19300000</td>\n",
       "      <td>25.5</td>\n",
       "      <td>876</td>\n",
       "      <td>6.7</td>\n",
       "      <td>508.0</td>\n",
       "      <td>NaN</td>\n",
       "      <td>NaN</td>\n",
       "    </tr>\n",
       "  </tbody>\n",
       "</table>\n",
       "</div>"
      ],
      "text/plain": [
       "   Year     Country  Population  Life Expectancy Years  \\\n",
       "0  1799  Bangladesh    19200000                   25.5   \n",
       "1  1800  Bangladesh    19200000                   25.5   \n",
       "2  1801  Bangladesh    19300000                   25.5   \n",
       "3  1802  Bangladesh    19300000                   25.5   \n",
       "4  1803  Bangladesh    19300000                   25.5   \n",
       "\n",
       "   GDP (income per capita)  Fertility Rate  Child Motality 0-5 YO  \\\n",
       "0                      876             6.7                  508.0   \n",
       "1                      876             6.7                  508.0   \n",
       "2                      876             6.7                  508.0   \n",
       "3                      876             6.7                  508.0   \n",
       "4                      876             6.7                  508.0   \n",
       "\n",
       "   Education (female 15-44)  Contraceptive Use percent  \n",
       "0                       NaN                        NaN  \n",
       "1                       NaN                        NaN  \n",
       "2                       NaN                        NaN  \n",
       "3                       NaN                        NaN  \n",
       "4                       NaN                        NaN  "
      ]
     },
     "execution_count": 3,
     "metadata": {},
     "output_type": "execute_result"
    }
   ],
   "source": [
    "df = pd.read_csv(os.path.join(\"../data/master_dataset_1700-2021.csv\"))\n",
    "df.head()"
   ]
  },
  {
   "cell_type": "code",
   "execution_count": 4,
   "id": "342d0956",
   "metadata": {},
   "outputs": [
    {
     "data": {
      "text/html": [
       "<div>\n",
       "<style scoped>\n",
       "    .dataframe tbody tr th:only-of-type {\n",
       "        vertical-align: middle;\n",
       "    }\n",
       "\n",
       "    .dataframe tbody tr th {\n",
       "        vertical-align: top;\n",
       "    }\n",
       "\n",
       "    .dataframe thead th {\n",
       "        text-align: right;\n",
       "    }\n",
       "</style>\n",
       "<table border=\"1\" class=\"dataframe\">\n",
       "  <thead>\n",
       "    <tr style=\"text-align: right;\">\n",
       "      <th></th>\n",
       "      <th>Year</th>\n",
       "      <th>Country</th>\n",
       "      <th>Population</th>\n",
       "      <th>Life Expectancy Years</th>\n",
       "      <th>GDP (income per capita)</th>\n",
       "      <th>Fertility Rate</th>\n",
       "      <th>Child Motality 0-5 YO</th>\n",
       "    </tr>\n",
       "  </thead>\n",
       "  <tbody>\n",
       "    <tr>\n",
       "      <th>0</th>\n",
       "      <td>1799</td>\n",
       "      <td>Bangladesh</td>\n",
       "      <td>19200000</td>\n",
       "      <td>25.5</td>\n",
       "      <td>876</td>\n",
       "      <td>6.70</td>\n",
       "      <td>508.00</td>\n",
       "    </tr>\n",
       "    <tr>\n",
       "      <th>1</th>\n",
       "      <td>1800</td>\n",
       "      <td>Bangladesh</td>\n",
       "      <td>19200000</td>\n",
       "      <td>25.5</td>\n",
       "      <td>876</td>\n",
       "      <td>6.70</td>\n",
       "      <td>508.00</td>\n",
       "    </tr>\n",
       "    <tr>\n",
       "      <th>2</th>\n",
       "      <td>1801</td>\n",
       "      <td>Bangladesh</td>\n",
       "      <td>19300000</td>\n",
       "      <td>25.5</td>\n",
       "      <td>876</td>\n",
       "      <td>6.70</td>\n",
       "      <td>508.00</td>\n",
       "    </tr>\n",
       "    <tr>\n",
       "      <th>3</th>\n",
       "      <td>1802</td>\n",
       "      <td>Bangladesh</td>\n",
       "      <td>19300000</td>\n",
       "      <td>25.5</td>\n",
       "      <td>876</td>\n",
       "      <td>6.70</td>\n",
       "      <td>508.00</td>\n",
       "    </tr>\n",
       "    <tr>\n",
       "      <th>4</th>\n",
       "      <td>1803</td>\n",
       "      <td>Bangladesh</td>\n",
       "      <td>19300000</td>\n",
       "      <td>25.5</td>\n",
       "      <td>876</td>\n",
       "      <td>6.70</td>\n",
       "      <td>508.00</td>\n",
       "    </tr>\n",
       "    <tr>\n",
       "      <th>...</th>\n",
       "      <td>...</td>\n",
       "      <td>...</td>\n",
       "      <td>...</td>\n",
       "      <td>...</td>\n",
       "      <td>...</td>\n",
       "      <td>...</td>\n",
       "      <td>...</td>\n",
       "    </tr>\n",
       "    <tr>\n",
       "      <th>3116</th>\n",
       "      <td>2017</td>\n",
       "      <td>United States</td>\n",
       "      <td>327000000</td>\n",
       "      <td>78.6</td>\n",
       "      <td>55700</td>\n",
       "      <td>1.90</td>\n",
       "      <td>6.53</td>\n",
       "    </tr>\n",
       "    <tr>\n",
       "      <th>3117</th>\n",
       "      <td>2018</td>\n",
       "      <td>United States</td>\n",
       "      <td>329000000</td>\n",
       "      <td>78.6</td>\n",
       "      <td>56700</td>\n",
       "      <td>1.90</td>\n",
       "      <td>6.58</td>\n",
       "    </tr>\n",
       "    <tr>\n",
       "      <th>3118</th>\n",
       "      <td>2019</td>\n",
       "      <td>United States</td>\n",
       "      <td>331000000</td>\n",
       "      <td>78.6</td>\n",
       "      <td>57500</td>\n",
       "      <td>1.89</td>\n",
       "      <td>6.62</td>\n",
       "    </tr>\n",
       "    <tr>\n",
       "      <th>3119</th>\n",
       "      <td>2020</td>\n",
       "      <td>United States</td>\n",
       "      <td>333000000</td>\n",
       "      <td>78.7</td>\n",
       "      <td>58200</td>\n",
       "      <td>1.89</td>\n",
       "      <td>6.64</td>\n",
       "    </tr>\n",
       "    <tr>\n",
       "      <th>3120</th>\n",
       "      <td>2021</td>\n",
       "      <td>United States</td>\n",
       "      <td>335000000</td>\n",
       "      <td>78.8</td>\n",
       "      <td>58800</td>\n",
       "      <td>1.89</td>\n",
       "      <td>6.62</td>\n",
       "    </tr>\n",
       "  </tbody>\n",
       "</table>\n",
       "<p>3121 rows × 7 columns</p>\n",
       "</div>"
      ],
      "text/plain": [
       "      Year        Country  Population  Life Expectancy Years  \\\n",
       "0     1799     Bangladesh    19200000                   25.5   \n",
       "1     1800     Bangladesh    19200000                   25.5   \n",
       "2     1801     Bangladesh    19300000                   25.5   \n",
       "3     1802     Bangladesh    19300000                   25.5   \n",
       "4     1803     Bangladesh    19300000                   25.5   \n",
       "...    ...            ...         ...                    ...   \n",
       "3116  2017  United States   327000000                   78.6   \n",
       "3117  2018  United States   329000000                   78.6   \n",
       "3118  2019  United States   331000000                   78.6   \n",
       "3119  2020  United States   333000000                   78.7   \n",
       "3120  2021  United States   335000000                   78.8   \n",
       "\n",
       "      GDP (income per capita)  Fertility Rate  Child Motality 0-5 YO  \n",
       "0                         876            6.70                 508.00  \n",
       "1                         876            6.70                 508.00  \n",
       "2                         876            6.70                 508.00  \n",
       "3                         876            6.70                 508.00  \n",
       "4                         876            6.70                 508.00  \n",
       "...                       ...             ...                    ...  \n",
       "3116                    55700            1.90                   6.53  \n",
       "3117                    56700            1.90                   6.58  \n",
       "3118                    57500            1.89                   6.62  \n",
       "3119                    58200            1.89                   6.64  \n",
       "3120                    58800            1.89                   6.62  \n",
       "\n",
       "[3121 rows x 7 columns]"
      ]
     },
     "execution_count": 4,
     "metadata": {},
     "output_type": "execute_result"
    }
   ],
   "source": [
    "df = df.dropna(axis=1)\n",
    "df = df.reset_index(drop=True)\n",
    "df"
   ]
  },
  {
   "cell_type": "code",
   "execution_count": 5,
   "id": "4bed3416",
   "metadata": {},
   "outputs": [
    {
     "name": "stdout",
     "output_type": "stream",
     "text": [
      "Shape:  (3121, 2) (3121, 1)\n"
     ]
    }
   ],
   "source": [
    "#TABLE 2, GDP per Capita vs Fertility Rate\n",
    "# Assign the data to X and y\n",
    "# Note: Sklearn requires a two-dimensional array of values\n",
    "# so we use reshape to create this\n",
    "\n",
    "X = df[[\"Life Expectancy Years\", \"Child Motality 0-5 YO\"]]\n",
    "y = df[\"Fertility Rate\"].values.reshape(-1, 1)\n",
    "\n",
    "#print(model['Fertility Rate'].shape)\n",
    "print(\"Shape: \", X.shape, y.shape)"
   ]
  },
  {
   "cell_type": "code",
   "execution_count": 6,
   "id": "9f9670b2",
   "metadata": {},
   "outputs": [],
   "source": [
    " # Plot the data to see if a linear trend exists\n",
    "\n",
    "### BEGIN SOLUTION\n",
    "#plt.scatter(X, y)\n",
    "#plt.xlabel(\"Fertility Rate\")\n",
    "#plt.ylabel(\"GDP per Capita\")\n",
    "### END SOLUTION"
   ]
  },
  {
   "cell_type": "code",
   "execution_count": 7,
   "id": "c5f7ad6c",
   "metadata": {},
   "outputs": [],
   "source": [
    " # Use sklearn's `train_test_split` to split the data into training and testing\n",
    "\n",
    "from sklearn.model_selection import train_test_split\n",
    "\n",
    "\n",
    "X_train, X_test, y_train, y_test = train_test_split(X, y)\n"
   ]
  },
  {
   "cell_type": "code",
   "execution_count": 8,
   "id": "fa5d467c",
   "metadata": {},
   "outputs": [],
   "source": [
    " # Create the model\n",
    "\n",
    "\n",
    "from sklearn.linear_model import LinearRegression\n",
    "\n",
    "model = LinearRegression()\n"
   ]
  },
  {
   "cell_type": "code",
   "execution_count": 9,
   "id": "490301ec",
   "metadata": {},
   "outputs": [
    {
     "data": {
      "text/plain": [
       "LinearRegression()"
      ]
     },
     "execution_count": 9,
     "metadata": {},
     "output_type": "execute_result"
    }
   ],
   "source": [
    "# Fit the model to the training data. \n",
    "\n",
    "\n",
    "model.fit(X_train, y_train)\n"
   ]
  },
  {
   "cell_type": "code",
   "execution_count": 10,
   "id": "439189fa",
   "metadata": {},
   "outputs": [
    {
     "name": "stdout",
     "output_type": "stream",
     "text": [
      "Training Score: 0.6193001547337498\n",
      "Testing Score: 0.6063458237379368\n"
     ]
    }
   ],
   "source": [
    "# Fit the model to the training data and calculate the scores for the training and testing data\n",
    "\n",
    "model.fit(X_train, y_train)\n",
    "training_score = model.score(X_train, y_train)\n",
    "testing_score = model.score(X_test, y_test)\n",
    "\n",
    "print(f\"Training Score: {training_score}\")\n",
    "print(f\"Testing Score: {testing_score}\")"
   ]
  },
  {
   "cell_type": "code",
   "execution_count": 11,
   "id": "360676fd",
   "metadata": {},
   "outputs": [
    {
     "name": "stdout",
     "output_type": "stream",
     "text": [
      "Mean Squared Error (MSE): 0.9814818936852981\n",
      "R-squared (R2 ): 0.6063458237379368\n"
     ]
    }
   ],
   "source": [
    "# Calculate the mean_squared_error and the r-squared value\n",
    "# for the testing data\n",
    "\n",
    "from sklearn.metrics import mean_squared_error, r2_score\n",
    "\n",
    "\n",
    "# Use our model to make predictions\n",
    "predicted = model.predict(X_test)\n",
    "\n",
    "# Score the predictions with mse and r2\n",
    "mse = mean_squared_error(y_test, predicted)\n",
    "r2 = r2_score(y_test, predicted)\n",
    "\n",
    "print(f\"Mean Squared Error (MSE): {mse}\")\n",
    "print(f\"R-squared (R2 ): {r2}\")\n"
   ]
  },
  {
   "cell_type": "code",
   "execution_count": 12,
   "id": "a947d366",
   "metadata": {},
   "outputs": [
    {
     "data": {
      "text/plain": [
       "Text(0.5, 1.0, 'Residual Plot')"
      ]
     },
     "execution_count": 12,
     "metadata": {},
     "output_type": "execute_result"
    },
    {
     "data": {
      "image/png": "[encoded data removed]",
      "text/plain": [
       "<Figure size 432x288 with 1 Axes>"
      ]
     },
     "metadata": {
      "needs_background": "light"
     },
     "output_type": "display_data"
    }
   ],
   "source": [
    " # Plot the Residuals for the Training and Testing data\n",
    "\n",
    "plt.scatter(model.predict(X_train), model.predict(X_train) - y_train, c=\"blue\", label=\"Training Data\")\n",
    "plt.scatter(model.predict(X_test), model.predict(X_test) - y_test, c=\"orange\", label=\"Testing Data\")\n",
    "plt.legend()\n",
    "plt.hlines(y=0, xmin=y.min(), xmax=y.max())\n",
    "plt.title(\"Residual Plot\")"
   ]
  },
  {
   "cell_type": "code",
   "execution_count": 13,
   "id": "3cc42c2a",
   "metadata": {},
   "outputs": [
    {
     "data": {
      "text/plain": [
       "0.6063458237379368"
      ]
     },
     "execution_count": 13,
     "metadata": {},
     "output_type": "execute_result"
    }
   ],
   "source": [
    " # Call the `score` method on the model to show the r2 score\n",
    "\n",
    "model.score(X_test, y_test)"
   ]
  },
  {
   "cell_type": "code",
   "execution_count": null,
   "id": "ffcd4179",
   "metadata": {},
   "outputs": [],
   "source": []
  },
  {
   "cell_type": "code",
   "execution_count": null,
   "id": "5a12b18c",
   "metadata": {},
   "outputs": [],
   "source": []
  },
  {
   "cell_type": "code",
   "execution_count": null,
   "id": "cb8d7a0d",
   "metadata": {},
   "outputs": [],
   "source": []
  }
 ],
 "metadata": {
  "kernelspec": {
   "display_name": "Python [conda env:PythonAdv] *",
   "language": "python",
   "name": "conda-env-PythonAdv-py"
  },
  "language_info": {
   "codemirror_mode": {
    "name": "ipython",
    "version": 3
   },
   "file_extension": ".py",
   "mimetype": "text/x-python",
   "name": "python",
   "nbconvert_exporter": "python",
   "pygments_lexer": "ipython3",
   "version": "3.6.13"
  }
 },
 "nbformat": 4,
 "nbformat_minor": 5
}
