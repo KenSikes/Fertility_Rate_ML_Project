{
 "cells": [
  {
   "cell_type": "code",
   "execution_count": 27,
   "id": "b9909971",
   "metadata": {},
   "outputs": [],
   "source": [
    "import pandas as pd\n",
    "import numpy as np\n",
    "from sklearn.linear_model import LinearRegression\n",
    "import re\n",
    "import json\n",
    "import warnings\n",
    "warnings.filterwarnings(\"ignore\")"
   ]
  },
  {
   "cell_type": "code",
   "execution_count": 28,
   "id": "0728a2ad",
   "metadata": {},
   "outputs": [
    {
     "data": {
      "text/html": [
       "<div>\n",
       "<style scoped>\n",
       "    .dataframe tbody tr th:only-of-type {\n",
       "        vertical-align: middle;\n",
       "    }\n",
       "\n",
       "    .dataframe tbody tr th {\n",
       "        vertical-align: top;\n",
       "    }\n",
       "\n",
       "    .dataframe thead th {\n",
       "        text-align: right;\n",
       "    }\n",
       "</style>\n",
       "<table border=\"1\" class=\"dataframe\">\n",
       "  <thead>\n",
       "    <tr style=\"text-align: right;\">\n",
       "      <th></th>\n",
       "      <th>Year</th>\n",
       "      <th>Country</th>\n",
       "      <th>Population</th>\n",
       "      <th>Life Expectancy Years</th>\n",
       "      <th>GDP (income per capita)</th>\n",
       "      <th>Fertility Rate</th>\n",
       "      <th>Child Motality 0-5 YO</th>\n",
       "      <th>Education (female 15-44)</th>\n",
       "      <th>Contraceptive Use percent</th>\n",
       "      <th>Education (yrs based on index)</th>\n",
       "    </tr>\n",
       "  </thead>\n",
       "  <tbody>\n",
       "    <tr>\n",
       "      <th>0</th>\n",
       "      <td>1799</td>\n",
       "      <td>Bangladesh</td>\n",
       "      <td>19200000</td>\n",
       "      <td>25.5</td>\n",
       "      <td>876</td>\n",
       "      <td>6.7</td>\n",
       "      <td>508.0</td>\n",
       "      <td>NaN</td>\n",
       "      <td>NaN</td>\n",
       "      <td>NaN</td>\n",
       "    </tr>\n",
       "    <tr>\n",
       "      <th>1</th>\n",
       "      <td>1800</td>\n",
       "      <td>Bangladesh</td>\n",
       "      <td>19200000</td>\n",
       "      <td>25.5</td>\n",
       "      <td>876</td>\n",
       "      <td>6.7</td>\n",
       "      <td>508.0</td>\n",
       "      <td>NaN</td>\n",
       "      <td>NaN</td>\n",
       "      <td>NaN</td>\n",
       "    </tr>\n",
       "    <tr>\n",
       "      <th>2</th>\n",
       "      <td>1801</td>\n",
       "      <td>Bangladesh</td>\n",
       "      <td>19300000</td>\n",
       "      <td>25.5</td>\n",
       "      <td>876</td>\n",
       "      <td>6.7</td>\n",
       "      <td>508.0</td>\n",
       "      <td>NaN</td>\n",
       "      <td>NaN</td>\n",
       "      <td>NaN</td>\n",
       "    </tr>\n",
       "    <tr>\n",
       "      <th>3</th>\n",
       "      <td>1802</td>\n",
       "      <td>Bangladesh</td>\n",
       "      <td>19300000</td>\n",
       "      <td>25.5</td>\n",
       "      <td>876</td>\n",
       "      <td>6.7</td>\n",
       "      <td>508.0</td>\n",
       "      <td>NaN</td>\n",
       "      <td>NaN</td>\n",
       "      <td>NaN</td>\n",
       "    </tr>\n",
       "    <tr>\n",
       "      <th>4</th>\n",
       "      <td>1803</td>\n",
       "      <td>Bangladesh</td>\n",
       "      <td>19300000</td>\n",
       "      <td>25.5</td>\n",
       "      <td>876</td>\n",
       "      <td>6.7</td>\n",
       "      <td>508.0</td>\n",
       "      <td>NaN</td>\n",
       "      <td>NaN</td>\n",
       "      <td>NaN</td>\n",
       "    </tr>\n",
       "  </tbody>\n",
       "</table>\n",
       "</div>"
      ],
      "text/plain": [
       "   Year     Country  Population  Life Expectancy Years  \\\n",
       "0  1799  Bangladesh    19200000                   25.5   \n",
       "1  1800  Bangladesh    19200000                   25.5   \n",
       "2  1801  Bangladesh    19300000                   25.5   \n",
       "3  1802  Bangladesh    19300000                   25.5   \n",
       "4  1803  Bangladesh    19300000                   25.5   \n",
       "\n",
       "   GDP (income per capita)  Fertility Rate  Child Motality 0-5 YO  \\\n",
       "0                      876             6.7                  508.0   \n",
       "1                      876             6.7                  508.0   \n",
       "2                      876             6.7                  508.0   \n",
       "3                      876             6.7                  508.0   \n",
       "4                      876             6.7                  508.0   \n",
       "\n",
       "   Education (female 15-44)  Contraceptive Use percent  \\\n",
       "0                       NaN                        NaN   \n",
       "1                       NaN                        NaN   \n",
       "2                       NaN                        NaN   \n",
       "3                       NaN                        NaN   \n",
       "4                       NaN                        NaN   \n",
       "\n",
       "   Education (yrs based on index)  \n",
       "0                             NaN  \n",
       "1                             NaN  \n",
       "2                             NaN  \n",
       "3                             NaN  \n",
       "4                             NaN  "
      ]
     },
     "execution_count": 28,
     "metadata": {},
     "output_type": "execute_result"
    }
   ],
   "source": [
    "df=pd.read_csv(\"data/master_dataset_1700-2021.csv\")\n",
    "df.head()"
   ]
  },
  {
   "cell_type": "code",
   "execution_count": 22,
   "id": "87ccbcf6",
   "metadata": {},
   "outputs": [],
   "source": [
    "# df2=df.drop(['Life Expectancy Years', 'GDP (income per capita)', 'Fertility Rate', 'Child Motality 0-5 YO', 'Contraceptive Use percent', 'Education (yrs based on index)'],axis=1, inplace=True)"
   ]
  },
  {
   "cell_type": "code",
   "execution_count": 32,
   "id": "e3a29228",
   "metadata": {},
   "outputs": [
    {
     "data": {
      "text/plain": [
       "array([[2.52020433e+08]])"
      ]
     },
     "execution_count": 32,
     "metadata": {},
     "output_type": "execute_result"
    }
   ],
   "source": [
    "x=df.iloc[:,0].values.reshape(-1,1)\n",
    "y=df.iloc[:,2].values.reshape(-1,1)\n",
    "model=LinearRegression().fit(x,y)\n",
    "y_pred=model.predict([[2022]])\n",
    "y_pred"
   ]
  },
  {
   "cell_type": "code",
   "execution_count": 35,
   "id": "df0b0b3c",
   "metadata": {},
   "outputs": [],
   "source": [
    "def main():\n",
    "    country = (\"Please input the country name: \").lower()\n",
    "    year = int(input(\"Please input the year to predict: \"))\n",
    "    df=pd.read_csv(\"data/master_dataset_1700-2021.csv\")\n",
    "    lists, df = country_list_gen(df)\n",
    "    if country in lists:\n",
    "        df = selecting_country(df, country)"
   ]
  },
  {
   "cell_type": "code",
   "execution_count": 33,
   "id": "ddc62f05",
   "metadata": {},
   "outputs": [],
   "source": [
    "def prediction_model(df):\n",
    "    x=df.iloc[:,0].values.reshape(-1,1)\n",
    "    y=df.iloc[:,2].values.reshape(-1,1)\n",
    "    model=LinearRegression().fit(x,y)\n",
    "    return model"
   ]
  },
  {
   "cell_type": "code",
   "execution_count": 34,
   "id": "1ccaf57d",
   "metadata": {},
   "outputs": [],
   "source": [
    "def prediction(model, year):\n",
    "    return int(model.coef_[0][0] * year + model.intercept_[0])"
   ]
  }
 ],
 "metadata": {
  "kernelspec": {
   "display_name": "Python [conda env:PythonAdv] *",
   "language": "python",
   "name": "conda-env-PythonAdv-py"
  },
  "language_info": {
   "codemirror_mode": {
    "name": "ipython",
    "version": 3
   },
   "file_extension": ".py",
   "mimetype": "text/x-python",
   "name": "python",
   "nbconvert_exporter": "python",
   "pygments_lexer": "ipython3",
   "version": "3.6.13"
  }
 },
 "nbformat": 4,
 "nbformat_minor": 5
}
